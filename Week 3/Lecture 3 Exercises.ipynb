{
 "cells": [
  {
   "cell_type": "markdown",
   "id": "24b98369-c7ba-450b-a8b5-e34319000695",
   "metadata": {
    "editable": true,
    "id": "24b98369-c7ba-450b-a8b5-e34319000695",
    "tags": []
   },
   "source": [
    "# Python for Data Science\n",
    "## Session 3\n",
    "### Object Oriented Programming"
   ]
  },
  {
   "cell_type": "markdown",
   "id": "3ace1343-d73d-466d-aa07-56febbb7cbf1",
   "metadata": {
    "editable": true,
    "id": "3ace1343-d73d-466d-aa07-56febbb7cbf1",
    "tags": []
   },
   "source": [
    "---"
   ]
  },
  {
   "cell_type": "markdown",
   "id": "c5ffee69-5d4d-4f1c-9ed7-083afbc931ec",
   "metadata": {
    "editable": true,
    "id": "c5ffee69-5d4d-4f1c-9ed7-083afbc931ec",
    "tags": []
   },
   "source": [
    "## Outline\n",
    "1. Classes and objects\n",
    "2. Abstraction and Inheritance\n",
    "3. Polymorphism and Encapsulation"
   ]
  },
  {
   "cell_type": "markdown",
   "id": "aba315f4-e9bf-4a66-b3d3-593037c3ca70",
   "metadata": {
    "editable": true,
    "id": "aba315f4-e9bf-4a66-b3d3-593037c3ca70",
    "tags": []
   },
   "source": [
    "---"
   ]
  },
  {
   "cell_type": "markdown",
   "id": "8ed45dcb-2cf5-4bfa-ba6e-5da25c59757c",
   "metadata": {
    "editable": true,
    "id": "8ed45dcb-2cf5-4bfa-ba6e-5da25c59757c",
    "tags": []
   },
   "source": [
    "## Object Oriented programming\n",
    "\n",
    "In Data science there are three different types of programming paradigms:\n",
    "\n",
    "1. **Object-oriented programming** organizes code using objects that represent real-world entities. It provides modularity, code reuse and abstraction, making it suitable for handling large and complex applications.\n",
    "\n",
    "2. **Functional programming** emphasizes the use of **pure functions** that can be easily composed and reused, ideal for transforming data.\n",
    "\n",
    "3. **Declarative programming** consists in specifyin what the program should accomplish, rather than how to accomplish it.\n",
    "\n"
   ]
  },
  {
   "cell_type": "markdown",
   "id": "42f9f227-0941-4967-9a4b-c282bb0e4cfc",
   "metadata": {
    "editable": true,
    "id": "42f9f227-0941-4967-9a4b-c282bb0e4cfc",
    "tags": []
   },
   "source": [
    "**Pure functions** are functions that always produce the same output for the same input and haven't got any side effects, meaning it does not modify external states or variables."
   ]
  },
  {
   "cell_type": "markdown",
   "id": "00b01ced-eda7-423f-8522-96bd3f1a4125",
   "metadata": {
    "editable": true,
    "id": "00b01ced-eda7-423f-8522-96bd3f1a4125",
    "tags": []
   },
   "source": [
    "---"
   ]
  },
  {
   "cell_type": "markdown",
   "id": "9434c993-aac1-4655-bf69-477b9dc5d2ee",
   "metadata": {
    "editable": true,
    "id": "9434c993-aac1-4655-bf69-477b9dc5d2ee",
    "tags": []
   },
   "source": [
    "## Object Oriented programming\n",
    "\n",
    "OOP main concepts are:\n",
    "\n",
    "1. **Class**: A template to create objects.\n",
    "2. **Object**: An instance of a class, representing a specific entity.\n",
    "3. **Attributes**: Properties of an object (variables within a class that define it).\n",
    "4. **Methods**: Actions that objects can perform (functions within a class)."
   ]
  },
  {
   "cell_type": "code",
   "execution_count": null,
   "id": "1e350f15-ae19-4323-a1c6-25d80118a5f3",
   "metadata": {
    "editable": true,
    "id": "1e350f15-ae19-4323-a1c6-25d80118a5f3",
    "tags": []
   },
   "outputs": [],
   "source": [
    "class Pet:\n",
    "    pass  # Empty class as a placeholder"
   ]
  },
  {
   "cell_type": "code",
   "execution_count": null,
   "id": "2e427c6d-a0fc-47de-a6e8-de71ae500619",
   "metadata": {
    "editable": true,
    "id": "2e427c6d-a0fc-47de-a6e8-de71ae500619",
    "tags": []
   },
   "outputs": [],
   "source": [
    "my_pet = Pet() # Instance of a class"
   ]
  },
  {
   "cell_type": "code",
   "execution_count": null,
   "id": "1cda9d57-aedb-4e70-af5b-7193174a2430",
   "metadata": {
    "editable": true,
    "id": "1cda9d57-aedb-4e70-af5b-7193174a2430",
    "tags": []
   },
   "outputs": [],
   "source": [
    "# Note: self refers to the instance of the class and is used to access its attributes and methods\n",
    "class Pet:\n",
    "    def __init__(self, name): # constructor\n",
    "        self.name = name"
   ]
  },
  {
   "cell_type": "code",
   "execution_count": null,
   "id": "c4f13ca9-dd0a-4b53-8f30-5a507979b1ed",
   "metadata": {
    "editable": true,
    "id": "c4f13ca9-dd0a-4b53-8f30-5a507979b1ed",
    "tags": []
   },
   "outputs": [],
   "source": [
    "class Pet:\n",
    "    def __init__(self, name): # constructor\n",
    "        self.name = name # Instance attribute\n",
    "        self.age = None # Instance attribute set to None\n",
    "\n",
    "    def set_age(self, age): # Method\n",
    "        self.age = age"
   ]
  },
  {
   "cell_type": "markdown",
   "id": "92887f1e-c2b9-4abc-9324-af4c15250c3a",
   "metadata": {
    "editable": true,
    "id": "92887f1e-c2b9-4abc-9324-af4c15250c3a",
    "tags": []
   },
   "source": [
    "---"
   ]
  },
  {
   "cell_type": "markdown",
   "id": "d6c81e01-e268-4490-b970-b9f3d7a08d30",
   "metadata": {
    "editable": true,
    "id": "d6c81e01-e268-4490-b970-b9f3d7a08d30",
    "tags": []
   },
   "source": [
    "## Object Oriented programming\n",
    "### Abstraction\n",
    "\n",
    "Abstraction consists in hiding any variables and internal parts of an object that don’t need to be shown during interaction. Making only available the essential functionalities.\n",
    "\n",
    "You may want to call a method from an object that searches for something in an internal list, and in this case, you don't need to see the algorithm behind it, you just need to call the method and get what you want."
   ]
  },
  {
   "cell_type": "markdown",
   "id": "23e1e6b4-322a-4cd5-8a82-72877cc98804",
   "metadata": {
    "editable": true,
    "id": "23e1e6b4-322a-4cd5-8a82-72877cc98804",
    "tags": []
   },
   "source": [
    "## Object Oriented programming\n",
    "### Inheritance\n",
    "\n",
    "Inheritance permits any class to inherit attributes and methods from another class. This reduces code duplication and enables the creation of specialized classes based on general ones."
   ]
  },
  {
   "cell_type": "code",
   "execution_count": 2,
   "id": "76c58110-a965-432f-8dcf-f457079fec65",
   "metadata": {
    "editable": true,
    "id": "76c58110-a965-432f-8dcf-f457079fec65",
    "tags": []
   },
   "outputs": [],
   "source": [
    "class Pet:\n",
    "    def __init__(self, age, name): # Constructor\n",
    "        self.age = age # Attribute\n",
    "        self.name = name # Attribute\n",
    "\n",
    "    def describe(self): # Method\n",
    "        print(f\"This pet's name is {self.name}.\")\n",
    "\n",
    "class Dog(Pet):\n",
    "    def __init__(self, age, name, breed): # Constructor\n",
    "        super().__init__(age, name)  # Call the parent class's __init__ method\n",
    "        self.breed = breed # New attribute for this specialized class\n",
    "\n",
    "    def describe(self):\n",
    "        super().describe()  # Call the parent class's describe method\n",
    "        print(f\"This dog is {self.age} years old and is a {self.breed}.\")"
   ]
  },
  {
   "cell_type": "code",
   "execution_count": 4,
   "id": "48301f74-ece3-49ec-9332-2c168743ebc8",
   "metadata": {
    "editable": true,
    "id": "48301f74-ece3-49ec-9332-2c168743ebc8",
    "tags": []
   },
   "outputs": [],
   "source": [
    "my_dog = Dog(3, 'Rock', 'Great Dane')"
   ]
  },
  {
   "cell_type": "code",
   "execution_count": 6,
   "id": "eae7678f-665a-4916-96d2-3926a312aea5",
   "metadata": {
    "editable": true,
    "id": "eae7678f-665a-4916-96d2-3926a312aea5",
    "outputId": "3abb92a2-d911-43f9-bf4b-bb7ecdaf371f",
    "tags": []
   },
   "outputs": [
    {
     "name": "stdout",
     "output_type": "stream",
     "text": [
      "This pet's name is Rock.\n",
      "This dog is 3 years old and is a Great Dane.\n"
     ]
    }
   ],
   "source": [
    "my_dog.describe()"
   ]
  },
  {
   "cell_type": "markdown",
   "id": "220f9368-0c1a-4ac8-9785-a33b11e5df77",
   "metadata": {
    "editable": true,
    "id": "220f9368-0c1a-4ac8-9785-a33b11e5df77",
    "tags": []
   },
   "source": [
    "---"
   ]
  },
  {
   "cell_type": "markdown",
   "id": "88ff8053-d1d0-4c08-b8e5-6c84e94c4f24",
   "metadata": {
    "editable": true,
    "id": "88ff8053-d1d0-4c08-b8e5-6c84e94c4f24",
    "tags": []
   },
   "source": [
    "## Object Oriented programming\n",
    "### Polymorphism\n",
    "\n",
    "It allows the same method name to behave differently based on the object calling it, which can be achieved through method overriding."
   ]
  },
  {
   "cell_type": "code",
   "execution_count": null,
   "id": "db4cd9e2-0188-4511-a81b-070221d74af5",
   "metadata": {
    "editable": true,
    "id": "db4cd9e2-0188-4511-a81b-070221d74af5",
    "tags": []
   },
   "outputs": [],
   "source": [
    "class Cat(Pet):\n",
    "    def __init__(self, age, name, breed): # Constructor\n",
    "        super().__init__(age, name)  # Call the parent class's __init__ method\n",
    "        self.breed = breed # New attribute for this specialized class\n",
    "\n",
    "    def describe(self): # Method\n",
    "        print(f\"This super cat is {self.age} years old and is a {self.breed}.\")"
   ]
  },
  {
   "cell_type": "code",
   "execution_count": null,
   "id": "ced1143b-98db-46db-8e90-fed185aad835",
   "metadata": {
    "editable": true,
    "id": "ced1143b-98db-46db-8e90-fed185aad835",
    "outputId": "3c3d99c3-5191-40d9-a25c-9d4516c6ca93",
    "tags": []
   },
   "outputs": [
    {
     "name": "stdout",
     "output_type": "stream",
     "text": [
      "This super cat is 7 years old and is a Siamese.\n"
     ]
    }
   ],
   "source": [
    "my_cat = Cat(7, 'Bella', 'Siamese')\n",
    "my_cat.describe()"
   ]
  },
  {
   "cell_type": "markdown",
   "id": "cd327548-f048-4d39-9b72-6dff6cd6963d",
   "metadata": {
    "editable": true,
    "id": "cd327548-f048-4d39-9b72-6dff6cd6963d",
    "tags": []
   },
   "source": [
    "---"
   ]
  },
  {
   "cell_type": "markdown",
   "id": "854b31bb-2b21-42fd-939a-f82f71a549f0",
   "metadata": {
    "editable": true,
    "id": "854b31bb-2b21-42fd-939a-f82f71a549f0",
    "tags": []
   },
   "source": [
    "## Object Oriented programming\n",
    "### Encapsulation\n",
    "\n",
    "It consists in restricting access to variables and methods outside the object. This way we ensure the integrity of the data within the object.\n",
    "\n",
    "In python, prefixing a variable or method name with an underscore **_** indicates that it is intended for internal use only, while a double underscore **__** modifies the variable name for better encapsulation.\n",
    "\n",
    "It is worth mentioning that this is a convention, and variables and methods are still accessible."
   ]
  },
  {
   "cell_type": "code",
   "execution_count": null,
   "id": "33e1bdf2-8798-41f1-9ed3-957c730dc9ad",
   "metadata": {
    "editable": true,
    "id": "33e1bdf2-8798-41f1-9ed3-957c730dc9ad",
    "tags": []
   },
   "outputs": [],
   "source": [
    "class Student:\n",
    "    def __init__(self, name, age, address=None):\n",
    "        self.name = name # Public attribute\n",
    "        self._age =   age # Private attribute\n",
    "        self._address = address  # Private attribute\n",
    "\n",
    "    def get_address(self): # Method\n",
    "        return self._address\n",
    "\n",
    "    def set_address(self, address): # Method\n",
    "        address = ''.join(filter(self._remove_special_characters, address))\n",
    "        self._address = address\n",
    "\n",
    "    def _remove_special_characters(self, character): # Private method\n",
    "        if character.isalnum() or character == ' ' or character == '-':\n",
    "            return True\n",
    "        else:\n",
    "            return False\n"
   ]
  },
  {
   "cell_type": "code",
   "execution_count": null,
   "id": "a4e46c71-63e9-474e-91a6-9d9a323636dc",
   "metadata": {
    "editable": true,
    "id": "a4e46c71-63e9-474e-91a6-9d9a323636dc",
    "outputId": "f3fdcc29-3661-46e6-e645-397a94c9874c",
    "tags": []
   },
   "outputs": [
    {
     "name": "stdout",
     "output_type": "stream",
     "text": [
      "The student named Joan has the following address: Avinguda Buenos Aires nº 31 7e-1a\n"
     ]
    }
   ],
   "source": [
    "student = Student(\"Joan\", 24)\n",
    "student.set_address(\"Avinguda Buenos Aires nº 31! 7e-1a\")\n",
    "print(f\"The student named {student.name} has the following address: {student.get_address()}\")"
   ]
  },
  {
   "cell_type": "markdown",
   "id": "f4552012-e0e9-40af-8801-69d83733d433",
   "metadata": {
    "editable": true,
    "id": "f4552012-e0e9-40af-8801-69d83733d433",
    "tags": []
   },
   "source": [
    "---"
   ]
  },
  {
   "cell_type": "markdown",
   "id": "42f8be9a-cc71-4a58-97ac-1a54219a2d72",
   "metadata": {
    "editable": true,
    "id": "42f8be9a-cc71-4a58-97ac-1a54219a2d72",
    "tags": []
   },
   "source": [
    "## Object Oriented programming\n",
    "### Hands on\n",
    "\n",
    "Let's design a course registration system, where the requirements will be:\n",
    "\n",
    "1. Create a **Course** class, where each course has a name, a description and a list of enrolled students. You'll need to implement the next methods:\n",
    "    - Add a student to the course.\n",
    "    - Remove a student from the course.\n",
    "    - Show all students in the course."
   ]
  },
  {
   "cell_type": "code",
   "execution_count": 8,
   "id": "e5430dcf-a01a-4ea1-aff8-5bad4531ab1e",
   "metadata": {
    "editable": true,
    "id": "e5430dcf-a01a-4ea1-aff8-5bad4531ab1e",
    "tags": []
   },
   "outputs": [
    {
     "name": "stdout",
     "output_type": "stream",
     "text": [
      "The student Obama has been added to the course and the current constitution is ['Obama']\n",
      "The student Trump has been added to the course and the current constitution is ['Obama', 'Trump']\n",
      "The student Jim has been added to the course and the current constitution is ['Obama', 'Trump', 'Jim']\n",
      "The students enrolled in the course are the following:\n",
      "- Obama\n",
      "- Trump\n",
      "- Jim\n",
      "The student Jim has been removed from the course and the current constitution is ['Obama', 'Trump']\n",
      "The students enrolled in the course are the following:\n",
      "- Obama\n",
      "- Trump\n"
     ]
    }
   ],
   "source": [
    "class Course:\n",
    "    def __init__(self, name, course_type):\n",
    "        self.name = name\n",
    "        self._course_type = course_type\n",
    "        self.enrolled_students = []\n",
    "\n",
    "\n",
    "class Course:\n",
    "    def __init__(self, name, course_type):\n",
    "        self.name = name\n",
    "        self._course_type = course_type\n",
    "        self.enrolled_students = []\n",
    "\n",
    "        # Function adding the students to the course\n",
    "    def add_student(self, student):\n",
    "        if student in self.enrolled_students:\n",
    "            print(f\"The student {student} is already enrolled in the course.\")\n",
    "        else:\n",
    "            self.enrolled_students.append(student)\n",
    "            print(f\"The student {student} has been added to the course and the current constitution is {self.enrolled_students}\")\n",
    "        \n",
    "        \n",
    "        # Function removing the students from the course\n",
    "    def remove_student(self, student):\n",
    "        if student in self.enrolled_students:\n",
    "            self.enrolled_students.remove(student)\n",
    "            print(f\"The student {student} has been removed from the course and the current constitution is {self.enrolled_students}\")\n",
    "        else:\n",
    "            print(f\"The student {student} is not enrolled in the course.\")\n",
    "            \n",
    "        \n",
    "        # Function removing the students from the course\n",
    "    def show_students(self):\n",
    "        print(f\"The students enrolled in the course are the following:\")\n",
    "        for student in self.enrolled_students:\n",
    "            print(f\"- {student}\")\n",
    "  \n",
    "# Output\n",
    "\n",
    "example_course = Course(\"How to do Python by Daniel Pace\", \"Python 101\")\n",
    "example_course.add_student(\"Obama\")\n",
    "example_course.add_student(\"Trump\")\n",
    "example_course.add_student(\"Jim\")\n",
    "example_course.show_students()\n",
    "example_course.remove_student(\"Jim\")\n",
    "example_course.show_students()"
   ]
  },
  {
   "cell_type": "markdown",
   "id": "16cc578c-9fe3-4478-81da-3071e3adb318",
   "metadata": {
    "editable": true,
    "id": "16cc578c-9fe3-4478-81da-3071e3adb318",
    "tags": []
   },
   "source": [
    "## Object Oriented programming\n",
    "### Hands on\n",
    "\n",
    "2. Create a **Student** class, where each student has a name, ID number, address and a list of enrolled courses with the following methods:\n",
    "    - Enroll in a course.\n",
    "    - Drop a course.\n",
    "    - Show all registered student courses."
   ]
  },
  {
   "cell_type": "code",
   "execution_count": 2,
   "id": "fe4cce31-1ddf-4847-bc8d-924dc3e0dfe1",
   "metadata": {
    "editable": true,
    "id": "fe4cce31-1ddf-4847-bc8d-924dc3e0dfe1",
    "tags": []
   },
   "outputs": [
    {
     "name": "stdout",
     "output_type": "stream",
     "text": [
      "Daniel Pace has successfully registered for Python.\n",
      "Daniel Pace has successfully registered for Mathematics.\n",
      "Daniel Pace is currently registered in the following courses:\n",
      "- Python\n",
      "- Mathematics\n",
      "Student Daniel Pace is already registered in Python\n",
      "Daniel Pace has withdrawn from Mathematics.\n",
      "Daniel Pace is currently registered in the following courses:\n",
      "- Python\n",
      "Student Daniel Pace is not registered in Spanish History\n",
      "Daniel Pace has withdrawn from Python.\n",
      "Daniel Pace is currently registered in the following courses:\n"
     ]
    }
   ],
   "source": [
    "class Learner:\n",
    "    def __init__(self, full_name, id_number, location):\n",
    "        self.full_name = full_name\n",
    "        self.id_number = id_number\n",
    "        self.location = location\n",
    "        self.courses_registered = []\n",
    "    \n",
    "    def register(self, course):\n",
    "        if course in self.courses_registered:\n",
    "            print(f\"Student {self.full_name} is already registered in {course}\")\n",
    "        else:\n",
    "            self.courses_registered.append(course)\n",
    "            print(f\"{self.full_name} has successfully registered for {course}.\")\n",
    "            \n",
    "    def withdraw(self, course):\n",
    "        if course not in self.courses_registered:\n",
    "            print(f\"Student {self.full_name} is not registered in {course}\")\n",
    "        else:\n",
    "            self.courses_registered.remove(course)\n",
    "            print(f\"{self.full_name} has withdrawn from {course}.\")\n",
    "            \n",
    "    def display_courses(self):\n",
    "        print(f\"{self.full_name} is currently registered in the following courses:\")\n",
    "        for course in self.courses_registered:\n",
    "            print(f\"- {course}\")\n",
    "            \n",
    "\n",
    "# Output\n",
    "\n",
    "course_python = \"Python\"\n",
    "course_math = \"Mathematics\"\n",
    "course_history = \"Spanish History\"\n",
    "\n",
    "\n",
    "learner1 = Learner(\"Daniel Pace\", \"1234\", \"Llys Myfyr Denbigh\")\n",
    "learner1.register(course_python)\n",
    "learner1.register(course_math)\n",
    "learner1.display_courses()\n",
    "\n",
    "learner1.register(course_python)\n",
    "learner1.withdraw(course_math)\n",
    "learner1.display_courses()\n",
    "\n",
    "learner1.withdraw(course_history)\n",
    "learner1.withdraw(course_python)\n",
    "\n",
    "learner1.display_courses()\n"
   ]
  },
  {
   "cell_type": "markdown",
   "id": "5c54b2fe-691f-4520-b8d6-2515ba92b808",
   "metadata": {
    "editable": true,
    "id": "5c54b2fe-691f-4520-b8d6-2515ba92b808",
    "tags": []
   },
   "source": [
    "## Object Oriented programming\n",
    "### Hands on\n",
    "\n",
    "3. Create a central class that manages courses and students, **Registration** class, where you have a list of students and a list of courses, and methods:\n",
    "    - Enroll in a course.\n",
    "    - Drop a course.\n",
    "    - Show all the enrolled courses.\n",
    "    - Show all the students."
   ]
  },
  {
   "cell_type": "code",
   "execution_count": 3,
   "id": "863f30c7-3cf8-4ac9-8599-e7df8e0d483c",
   "metadata": {
    "editable": true,
    "id": "863f30c7-3cf8-4ac9-8599-e7df8e0d483c",
    "tags": []
   },
   "outputs": [
    {
     "name": "stdout",
     "output_type": "stream",
     "text": [
      "Course Python has been added.\n",
      "Course Mathematics has been added.\n",
      "Course Spanish History has been added.\n",
      "Learner Obama has been added.\n",
      "Learner Trump has been added.\n",
      "Obama has successfully registered for Python.\n",
      "Obama has successfully registered for Mathematics.\n",
      "Obama is currently registered in the following courses:\n",
      "- Python\n",
      "- Mathematics\n",
      "Trump has successfully registered for Spanish History.\n",
      "Enrolled students:\n",
      "- Obama (ID: 1234)\n",
      "- Trump (ID: 4321)\n",
      "Obama has withdrawn from Mathematics.\n",
      "Obama is currently registered in the following courses:\n",
      "- Python\n"
     ]
    }
   ],
   "source": [
    "class Learner:\n",
    "    def __init__(self, full_name, id_number, location):\n",
    "        self.full_name = full_name\n",
    "        self.id_number = id_number\n",
    "        self.location = location\n",
    "        self.courses_registered = []\n",
    "\n",
    "    def register(self, course):\n",
    "        if course in self.courses_registered:\n",
    "            print(f\"Learner {self.full_name} is already registered for {course}\")\n",
    "        else:\n",
    "            self.courses_registered.append(course)\n",
    "            print(f\"{self.full_name} has successfully registered for {course}.\")\n",
    "\n",
    "    def withdraw(self, course):\n",
    "        if course not in self.courses_registered:\n",
    "            print(f\"Learner {self.full_name} is not registered for {course}\")\n",
    "        else:\n",
    "            self.courses_registered.remove(course)\n",
    "            print(f\"{self.full_name} has withdrawn from {course}.\")\n",
    "\n",
    "    def display_courses(self):\n",
    "        print(f\"{self.full_name} is currently registered in the following courses:\")\n",
    "        for course in self.courses_registered:\n",
    "            print(f\"- {course}\")\n",
    "\n",
    "\n",
    "class Registration:\n",
    "    def __init__(self):\n",
    "        self.students = []\n",
    "        self.courses = []\n",
    "\n",
    "    def add_student(self, learner):\n",
    "        self.students.append(learner)\n",
    "        print(f\"Learner {learner.full_name} has been added.\")\n",
    "\n",
    "    def add_course(self, course):\n",
    "        self.courses.append(course)\n",
    "        print(f\"Course {course} has been added.\")\n",
    "\n",
    "    def enroll_in_course(self, learner, course):\n",
    "        if course in self.courses:\n",
    "            learner.register(course)\n",
    "        else:\n",
    "            print(f\"Course {course} does not exist.\")\n",
    "\n",
    "    def drop_course(self, learner, course):\n",
    "        learner.withdraw(course)\n",
    "\n",
    "    def show_all_courses(self):\n",
    "        print(\"Available courses:\")\n",
    "        for course in self.courses:\n",
    "            print(f\"- {course}\")\n",
    "\n",
    "    def show_all_students(self):\n",
    "        print(\"Enrolled students:\")\n",
    "        for learner in self.students:\n",
    "            print(f\"- {learner.full_name} (ID: {learner.id_number})\")\n",
    "\n",
    "\n",
    "# Output\n",
    "\n",
    "course_python = \"Python\"\n",
    "course_math = \"Mathematics\"\n",
    "course_history = \"Spanish History\"\n",
    "\n",
    "learner1 = Learner(\"Obama\", \"1234\", \"Chicago\")\n",
    "learner2 = Learner(\"Trump\", \"4321\", \"Pennsylvania\")\n",
    "\n",
    "registration_system = Registration()\n",
    "\n",
    "registration_system.add_course(course_python)\n",
    "registration_system.add_course(course_math)\n",
    "registration_system.add_course(course_history)\n",
    "\n",
    "registration_system.add_student(learner1)\n",
    "registration_system.add_student(learner2)\n",
    "\n",
    "registration_system.enroll_in_course(learner1, course_python)\n",
    "registration_system.enroll_in_course(learner1, course_math)\n",
    "learner1.display_courses()\n",
    "\n",
    "registration_system.enroll_in_course(learner2, course_history)\n",
    "registration_system.show_all_students()\n",
    "\n",
    "registration_system.drop_course(learner1, course_math)\n",
    "learner1.display_courses()\n",
    "\n"
   ]
  },
  {
   "cell_type": "markdown",
   "id": "2958b01b-3472-4c95-ae1f-771edc638749",
   "metadata": {
    "editable": true,
    "id": "2958b01b-3472-4c95-ae1f-771edc638749",
    "tags": []
   },
   "source": [
    "## Object Oriented programming\n",
    "### Howework\n",
    "\n",
    "4. Let's add grades to each student's course and create method that yields the GPA given a student name or ID."
   ]
  },
  {
   "cell_type": "code",
   "execution_count": 3,
   "id": "1aa59321-ab0a-4043-8a67-0b791225ffab",
   "metadata": {},
   "outputs": [
    {
     "name": "stdout",
     "output_type": "stream",
     "text": [
      "Course Python has been added.\n",
      "Course Mathematics has been added.\n",
      "Course Spanish History has been added.\n",
      "Learner James Bond has been added.\n",
      "Learner Ronaldo has been added.\n",
      "James Bond has successfully registered for Python.\n",
      "James Bond has successfully registered for Mathematics.\n",
      "Ronaldo has successfully registered for Spanish History.\n",
      "Assigned grade 3.1 to James Bond for Python.\n",
      "Assigned grade 3.2 to James Bond for Mathematics.\n",
      "Assigned grade 3.3 to Ronaldo for Spanish History.\n",
      "James Bond is currently registered in the following courses:\n",
      "- Python: Grade: 3.1\n",
      "- Mathematics: Grade: 3.2\n",
      "Ronaldo is currently registered in the following courses:\n",
      "- Spanish History: Grade: 3.3\n",
      "James Bond's GPA: 3.15\n",
      "Student ID 007's GPA: 3.15\n"
     ]
    }
   ],
   "source": [
    "class Learner:\n",
    "    def __init__(self, full_name, id_number, location):\n",
    "        self.full_name = full_name\n",
    "        self.id_number = id_number\n",
    "        self.location = location\n",
    "        self.courses_registered = {}\n",
    "    \n",
    "    def register(self, course):\n",
    "        if course in self.courses_registered:\n",
    "            print(f\"Learner {self.full_name} is already registered for {course}\")\n",
    "        else:\n",
    "            self.courses_registered[course] = None  # None represents no grade yet\n",
    "            print(f\"{self.full_name} has successfully registered for {course}.\")\n",
    "            \n",
    "    def withdraw(self, course):\n",
    "        if course not in self.courses_registered:\n",
    "            print(f\"Learner {self.full_name} is not registered for {course}\")\n",
    "        else:\n",
    "            del self.courses_registered[course]\n",
    "            print(f\"{self.full_name} has withdrawn from {course}.\")\n",
    "            \n",
    "    def assign_grade(self, course, grade):\n",
    "        if course in self.courses_registered:\n",
    "            self.courses_registered[course] = grade\n",
    "            print(f\"Assigned grade {grade} to {self.full_name} for {course}.\")\n",
    "        else:\n",
    "            print(f\"{self.full_name} is not registered in {course}, so grade cannot be assigned.\")\n",
    "\n",
    "    def display_courses(self):\n",
    "        print(f\"{self.full_name} is currently registered in the following courses:\")\n",
    "        for course, grade in self.courses_registered.items():\n",
    "            grade_display = \"No grade yet\" if grade is None else f\"Grade: {grade}\"\n",
    "            print(f\"- {course}: {grade_display}\")\n",
    "    \n",
    "    def calculate_gpa(self):\n",
    "        total_grade_points = 0\n",
    "        total_courses = 0\n",
    "        for grade in self.courses_registered.values():\n",
    "            if grade is not None:  # Only consider courses with assigned grades\n",
    "                total_grade_points += grade\n",
    "                total_courses += 1\n",
    "        \n",
    "        if total_courses == 0:\n",
    "            return 0.0  # No courses with grades assigned, GPA is 0\n",
    "        else:\n",
    "            return total_grade_points / total_courses\n",
    "\n",
    "\n",
    "class Registration:\n",
    "    def __init__(self):\n",
    "        self.students = []\n",
    "        self.courses = []\n",
    "\n",
    "    def add_student(self, learner):\n",
    "        self.students.append(learner)\n",
    "        print(f\"Learner {learner.full_name} has been added.\")\n",
    "\n",
    "    def add_course(self, course):\n",
    "        self.courses.append(course)\n",
    "        print(f\"Course {course} has been added.\")\n",
    "\n",
    "    def enroll_in_course(self, learner, course):\n",
    "        if course in self.courses:\n",
    "            learner.register(course)\n",
    "        else:\n",
    "            print(f\"Course {course} does not exist.\")\n",
    "\n",
    "    def drop_course(self, learner, course):\n",
    "        learner.withdraw(course)\n",
    "\n",
    "    def assign_grade(self, learner, course, grade):\n",
    "        learner.assign_grade(course, grade)\n",
    "\n",
    "    def show_all_students(self):\n",
    "        print(\"Enrolled students:\")\n",
    "        for learner in self.students:\n",
    "            print(f\"- {learner.full_name} (ID: {learner.id_number})\")\n",
    "\n",
    "    def calculate_gpa_by_name(self, name):\n",
    "        for learner in self.students:\n",
    "            if learner.full_name == name:\n",
    "                gpa = learner.calculate_gpa()\n",
    "                print(f\"{name}'s GPA: {gpa:.2f}\")\n",
    "                return\n",
    "        print(f\"No student found with the name {name}\")\n",
    "\n",
    "    def calculate_gpa_by_id(self, id_number):\n",
    "        for learner in self.students:\n",
    "            if learner.id_number == id_number:\n",
    "                gpa = learner.calculate_gpa()\n",
    "                print(f\"Student ID {id_number}'s GPA: {gpa:.2f}\")\n",
    "                return\n",
    "        print(f\"No student found with the ID {id_number}\")\n",
    "\n",
    "\n",
    "# Example usage\n",
    "\n",
    "course_python = \"Python\"\n",
    "course_math = \"Mathematics\"\n",
    "course_history = \"Spanish History\"\n",
    "\n",
    "learner1 = Learner(\"James Bond\", \"007\", \"London\")\n",
    "learner2 = Learner(\"Ronaldo\", \"09\", \"Rio\")\n",
    "\n",
    "registration_system = Registration()\n",
    "\n",
    "registration_system.add_course(course_python)\n",
    "registration_system.add_course(course_math)\n",
    "registration_system.add_course(course_history)\n",
    "\n",
    "registration_system.add_student(learner1)\n",
    "registration_system.add_student(learner2)\n",
    "\n",
    "registration_system.enroll_in_course(learner1, course_python)\n",
    "registration_system.enroll_in_course(learner1, course_math)\n",
    "registration_system.enroll_in_course(learner2, course_history)\n",
    "\n",
    "registration_system.assign_grade(learner1, course_python, 3.1)\n",
    "registration_system.assign_grade(learner1, course_math, 3.2)\n",
    "registration_system.assign_grade(learner2, course_history, 3.3)\n",
    "\n",
    "learner1.display_courses()\n",
    "learner2.display_courses()\n",
    "\n",
    "# Calculate GPA by name or ID\n",
    "\n",
    "registration_system.calculate_gpa_by_name(\"James Bond\")\n",
    "registration_system.calculate_gpa_by_id(\"007\")\n"
   ]
  },
  {
   "cell_type": "markdown",
   "id": "76c565a9-dc30-464c-980d-d522cd5246f4",
   "metadata": {
    "editable": true,
    "id": "76c565a9-dc30-464c-980d-d522cd5246f4",
    "tags": []
   },
   "source": [
    "## That's all!"
   ]
  },
  {
   "cell_type": "code",
   "execution_count": null,
   "id": "28c8bd6c-8aab-49d2-bcf0-2b7922359775",
   "metadata": {},
   "outputs": [],
   "source": []
  }
 ],
 "metadata": {
  "colab": {
   "provenance": []
  },
  "kernelspec": {
   "display_name": "myenv",
   "language": "python",
   "name": "python3"
  },
  "language_info": {
   "codemirror_mode": {
    "name": "ipython",
    "version": 3
   },
   "file_extension": ".py",
   "mimetype": "text/x-python",
   "name": "python",
   "nbconvert_exporter": "python",
   "pygments_lexer": "ipython3",
   "version": "3.12.7"
  }
 },
 "nbformat": 4,
 "nbformat_minor": 5
}
