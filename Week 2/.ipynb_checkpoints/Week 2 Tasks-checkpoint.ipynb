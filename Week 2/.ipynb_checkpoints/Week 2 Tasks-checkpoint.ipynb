{
 "cells": [
  {
   "cell_type": "code",
   "execution_count": 2,
   "id": "e4def711-8021-4a93-8bb3-58c1638440b7",
   "metadata": {},
   "outputs": [
    {
     "name": "stdout",
     "output_type": "stream",
     "text": [
      "1\n",
      "2\n",
      "Fizz\n",
      "4\n",
      "Buzz\n",
      "Fizz\n",
      "7\n",
      "8\n",
      "Fizz\n",
      "Buzz\n",
      "11\n",
      "Fizz\n",
      "13\n",
      "14\n",
      "FizzBuzz\n",
      "16\n",
      "17\n",
      "Fizz\n",
      "19\n",
      "Buzz\n"
     ]
    }
   ],
   "source": [
    "# Task 1 - FizzBuzz Task\n",
    "# This code will print \"Fizz\" for multiples of 3, \"Buzz\" for multiples of 5, \"FizzBuzz\" for multiples of both, and the number itself for others.\n",
    "\n",
    "def fizzbuzz(n):\n",
    "    for i in range(1, n + 1):\n",
    "        if i % 3 == 0 and i % 5 == 0:\n",
    "            print(\"FizzBuzz\")\n",
    "        elif i % 3 == 0:\n",
    "            print(\"Fizz\")\n",
    "        elif i % 5 == 0:\n",
    "            print(\"Buzz\")\n",
    "        else:\n",
    "            print(i)\n",
    "\n",
    "fizzbuzz(20)"
   ]
  },
  {
   "cell_type": "code",
   "execution_count": 10,
   "id": "437ab0c4-9066-46b2-bf2f-a4eeb793d064",
   "metadata": {},
   "outputs": [
    {
     "name": "stdout",
     "output_type": "stream",
     "text": [
      "[10, 25, 42, 100]\n"
     ]
    }
   ],
   "source": [
    "# Task 2 - Basic Data Filtering\n",
    "# This code will output the filtered list containing only the integers from the original mixed data list.\n",
    "\n",
    "mixed_data = [10, 'hello', 3.14, 25, 'world', 42, 7.5, 'python', 100]\n",
    "\n",
    "filtered_integers = [x for x in mixed_data if isinstance(x, int)]\n",
    "\n",
    "print(filtered_integers)"
   ]
  },
  {
   "cell_type": "code",
   "execution_count": 12,
   "id": "e80b2cd1-eb7a-4c62-9918-5002ab744e69",
   "metadata": {},
   "outputs": [
    {
     "name": "stdout",
     "output_type": "stream",
     "text": [
      "To-Do List:\n",
      "1. Finish homework\n",
      "2. Go grocery shopping\n",
      "3. Call a friend\n"
     ]
    }
   ],
   "source": [
    "# Task 3 - Simple to do list\n",
    "# This code creates a to-do list where you can add tasks using add_task() and view all the tasks using show_tasks().\n",
    "\n",
    "todo_list = []\n",
    "\n",
    "def add_task(task):\n",
    "    todo_list.append(task)\n",
    "\n",
    "def show_tasks():\n",
    "    if todo_list:\n",
    "        print(\"To-Do List:\")\n",
    "        for i, task in enumerate(todo_list, 1):\n",
    "            print(f\"{i}. {task}\")\n",
    "    else:\n",
    "        print(\"The to-do list is empty.\")\n",
    "\n",
    "add_task(\"Finish homework\")\n",
    "add_task(\"Go grocery shopping\")\n",
    "add_task(\"Call a friend\")\n",
    "\n",
    "show_tasks()"
   ]
  },
  {
   "cell_type": "code",
   "execution_count": 14,
   "id": "a035e6b9-fd10-4af3-ac31-b9bb24dd2162",
   "metadata": {},
   "outputs": [
    {
     "name": "stdout",
     "output_type": "stream",
     "text": [
      "22°C is equal to 71.6°F\n",
      "46°C is equal to 114.8°F\n",
      "51°C is equal to 123.8°F\n",
      "76°C is equal to 168.8°F\n"
     ]
    }
   ],
   "source": [
    "# Task 4 - Converting Celcius to Fahrenheit\n",
    "# This code defines the function celsius_to_fahrenheit() to convert Celsius to Fahrenheit and prints the converted temperatures for 22°C, 46°C, 51°C, and 76°C.\n",
    "\n",
    "def celsius_to_fahrenheit(celsius):\n",
    "    return (celsius * 9/5) + 32\n",
    "\n",
    "temperatures_celsius = [22, 46, 51, 76]\n",
    "\n",
    "for temp in temperatures_celsius:\n",
    "    fahrenheit = celsius_to_fahrenheit(temp)\n",
    "    print(f\"{temp}°C is equal to {fahrenheit}°F\")"
   ]
  },
  {
   "cell_type": "code",
   "execution_count": null,
   "id": "60ed8130-51c8-4edd-a21b-7f8a0d738787",
   "metadata": {},
   "outputs": [],
   "source": []
  }
 ],
 "metadata": {
  "kernelspec": {
   "display_name": "Python 3 (ipykernel)",
   "language": "python",
   "name": "python3"
  },
  "language_info": {
   "codemirror_mode": {
    "name": "ipython",
    "version": 3
   },
   "file_extension": ".py",
   "mimetype": "text/x-python",
   "name": "python",
   "nbconvert_exporter": "python",
   "pygments_lexer": "ipython3",
   "version": "3.12.4"
  }
 },
 "nbformat": 4,
 "nbformat_minor": 5
}
